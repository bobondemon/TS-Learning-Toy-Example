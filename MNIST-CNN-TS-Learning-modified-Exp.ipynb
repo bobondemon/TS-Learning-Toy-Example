{
 "cells": [
  {
   "cell_type": "markdown",
   "metadata": {},
   "source": [
    "## CNN Classifier Experiments with MNIST\n",
    "A typical CNN classifier for MNIST. Could makes 99% in both train and validation set"
   ]
  },
  {
   "cell_type": "code",
   "execution_count": 1,
   "metadata": {
    "collapsed": true
   },
   "outputs": [],
   "source": [
    "import gzip\n",
    "import os\n",
    "import tempfile\n",
    "import numpy as np\n",
    "import matplotlib.pyplot as plt\n",
    "%matplotlib inline\n",
    "import tensorflow as tf\n",
    "from tensorflow.contrib.layers import flatten\n",
    "# from tensorflow.contrib.learn.python.learn.datasets.mnist import read_data_sets\n",
    "from tensorflow.examples.tutorials.mnist import input_data\n",
    "# Shuffle arrays or sparse matrices in a consistent way\n",
    "from sklearn.utils import shuffle"
   ]
  },
  {
   "cell_type": "markdown",
   "metadata": {},
   "source": [
    "## Data Loading and Plotting"
   ]
  },
  {
   "cell_type": "code",
   "execution_count": 2,
   "metadata": {},
   "outputs": [
    {
     "name": "stdout",
     "output_type": "stream",
     "text": [
      "Extracting ../dataset/MNIST_data/train-images-idx3-ubyte.gz\n",
      "Extracting ../dataset/MNIST_data/train-labels-idx1-ubyte.gz\n",
      "Extracting ../dataset/MNIST_data/t10k-images-idx3-ubyte.gz\n",
      "Extracting ../dataset/MNIST_data/t10k-labels-idx1-ubyte.gz\n"
     ]
    }
   ],
   "source": [
    "dataPath='../dataset/MNIST_data/'\n",
    "mnist = input_data.read_data_sets(dataPath, one_hot=True)"
   ]
  },
  {
   "cell_type": "code",
   "execution_count": 3,
   "metadata": {
    "collapsed": true
   },
   "outputs": [],
   "source": [
    "# read the images and reformat the image shape from [img_num,img_height,img_width] to [img_num,img_height,img_width,1]\n",
    "img_width = 28\n",
    "img_height = 28\n",
    "images = mnist.train.images"
   ]
  },
  {
   "cell_type": "code",
   "execution_count": 4,
   "metadata": {},
   "outputs": [
    {
     "name": "stdout",
     "output_type": "stream",
     "text": [
      "Having 5417 and 5454 for 6 and 9 respectively\n"
     ]
    }
   ],
   "source": [
    "# read the labels, 6 --> class 0; 9 --> class 1\n",
    "y1hot_all = mnist.train.labels\n",
    "y_all = np.argmax(y1hot_all,axis=1)\n",
    "idx6 = np.nonzero(y_all==6)[0]\n",
    "idx9 = np.nonzero(y_all==9)[0]\n",
    "idx69 = np.concatenate([idx6, idx9])\n",
    "print('Having {} and {} for 6 and 9 respectively'.format(len(idx6),len(idx9)))\n",
    "y = np.copy(y_all)\n",
    "y[idx6] = 0\n",
    "y[idx9] = 1\n",
    "y = y[idx69]\n",
    "y = y[...,np.newaxis]\n",
    "y1hot = [[int(x[6]), int(x[9])] for x in y1hot_all[idx69]]"
   ]
  },
  {
   "cell_type": "code",
   "execution_count": 5,
   "metadata": {
    "collapsed": true
   },
   "outputs": [],
   "source": [
    "allidx = set(range(len(y_all)))\n",
    "restidx = list(set.difference(allidx,set(idx69)))\n",
    "#print(len(restidx),len(idx69),len(allidx))\n",
    "#assert(len(restidx)+len(idx69)==len(allidx))\n",
    "y1hot_rest_flip = [[1, 0] for x in y1hot_all[restidx]]\n",
    "#print(len(y1hot_rest_flip))"
   ]
  },
  {
   "cell_type": "code",
   "execution_count": 6,
   "metadata": {},
   "outputs": [
    {
     "name": "stdout",
     "output_type": "stream",
     "text": [
      "(Input to CNN) Images with shape (10871, 28, 28, 1)\n",
      "(Input to CNN) Rest of Images with shape (44129, 28, 28, 1)\n"
     ]
    }
   ],
   "source": [
    "# read the images and reformat the image shape from [img_num,img_height,img_width] to [img_num,img_height,img_width,1]\n",
    "# extract 6, 9 as training images. The rest of images are for unsupervised training\n",
    "n_classes = 2\n",
    "x = images[idx69]\n",
    "x_num, _ = x.shape\n",
    "assert(len(x)==len(y))\n",
    "x = np.reshape(x,(x_num,img_height,img_width))\n",
    "x = x[...,np.newaxis]\n",
    "print('(Input to CNN) Images with shape {}'.format(x.shape))\n",
    "restidx = list( set.difference( set(range(len(images))), set(idx69) ) )\n",
    "assert(len(restidx)+len(x)==len(images))\n",
    "x_rest = images[restidx]\n",
    "x_rest_num, _ = x_rest.shape\n",
    "x_rest = np.reshape(x_rest,(x_rest_num,img_height,img_width))\n",
    "x_rest = x_rest[...,np.newaxis]\n",
    "print('(Input to CNN) Rest of Images with shape {}'.format(x_rest.shape))"
   ]
  },
  {
   "cell_type": "code",
   "execution_count": 7,
   "metadata": {},
   "outputs": [
    {
     "data": {
      "image/png": "[encoded data removed]",
      "text/plain": [
       "<matplotlib.figure.Figure at 0x291950ad4e0>"
      ]
     },
     "metadata": {},
     "output_type": "display_data"
    }
   ],
   "source": [
    "# generate testing input as flipping upside down images to training data\n",
    "y1hot_flip = np.copy(y1hot)\n",
    "y_flip = np.copy(y)\n",
    "def flip(img):\n",
    "    rtnimg = np.array([img[img_height-1-i,...] for i in range(img_height)])\n",
    "    return rtnimg\n",
    "x_flip = list(map(lambda img: flip(img),x))\n",
    "plt.figure(figsize=(15,5))\n",
    "for i in np.arange(2*7):\n",
    "    plt.subplot(2,7,i+1)\n",
    "    plt.imshow(x_flip[5411+i][...,0],cmap='gray')\n",
    "    plt.title(y_flip[5411+i][0])\n",
    "    \n",
    "x_rest_flip = list(map(lambda img: flip(img),x_rest))"
   ]
  },
  {
   "cell_type": "markdown",
   "metadata": {
    "collapsed": true
   },
   "source": [
    "## CNN Graph Construction\n",
    "\n",
    "1. Define the input output tensors\n",
    "2. Define the graph and construct it\n",
    "3. Define the loss and optimizer\n",
    "\n",
    "### First define the hyper-parameters"
   ]
  },
  {
   "cell_type": "code",
   "execution_count": 8,
   "metadata": {
    "collapsed": true
   },
   "outputs": [],
   "source": [
    "# Hyper-parameters\n",
    "EPOCHS = 3\n",
    "EPOCHS_TF = 10\n",
    "BATCH_SIZE = 128\n",
    "rate = 0.001\n",
    "drop_out_keep_prob = 0.5"
   ]
  },
  {
   "cell_type": "markdown",
   "metadata": {},
   "source": [
    "### Define the input output tensors"
   ]
  },
  {
   "cell_type": "code",
   "execution_count": 9,
   "metadata": {
    "collapsed": true
   },
   "outputs": [],
   "source": [
    "# using one-hot decoding\n",
    "cNum = 1\n",
    "x_feed = tf.placeholder(tf.float32, (None, img_height, img_width, cNum))\n",
    "one_hot_y_feed = tf.placeholder(tf.int32, (None, n_classes))\n",
    "\n",
    "x_feed_student = tf.placeholder(tf.float32, (None, img_height, img_width, cNum))\n",
    "one_hot_y_feed_student = tf.placeholder(tf.int32, (None, n_classes))\n",
    "#one_hot_y = tf.one_hot(y, n_classes)"
   ]
  },
  {
   "cell_type": "markdown",
   "metadata": {},
   "source": [
    "### Define the graph and construct it"
   ]
  },
  {
   "cell_type": "code",
   "execution_count": 10,
   "metadata": {
    "collapsed": true
   },
   "outputs": [],
   "source": [
    "kSize = 5\n",
    "mu = 0\n",
    "sigma = 0.1\n",
    "layer_depth = {\n",
    "    'layer_1': 16,\n",
    "    'layer_2': 32,\n",
    "    'fully_connected_1': 256,\n",
    "    'fully_connected_2': 128,\n",
    "    'out': n_classes,\n",
    "}\n",
    "keep_prob = tf.placeholder(tf.float32) # probability to keep units"
   ]
  },
  {
   "cell_type": "code",
   "execution_count": 11,
   "metadata": {
    "scrolled": true
   },
   "outputs": [
    {
     "name": "stdout",
     "output_type": "stream",
     "text": [
      "conv1 has shape= (?, 24, 24, 16)\n",
      "conv2 has shape= (?, 8, 8, 32)\n",
      "flatten(conv2) has shape= (?, 512)\n",
      "logits has shape= (?, 2)\n"
     ]
    }
   ],
   "source": [
    "# CNN architecture\n",
    "\n",
    "with tf.variable_scope('teacher'):\n",
    "    weights = {\n",
    "        'layer_1': tf.get_variable('layer_1w', shape=(kSize, kSize, cNum, layer_depth['layer_1']),initializer=tf.random_normal_initializer(mu,sigma)),\n",
    "        'layer_2': tf.get_variable('layer_2w', shape=(kSize, kSize, layer_depth['layer_1'], layer_depth['layer_2']),initializer=tf.random_normal_initializer(mu,sigma)),\n",
    "        'fully_connected_1': tf.get_variable('fully_connected_1w', shape=(4*4*layer_depth['layer_2'], layer_depth['fully_connected_1']),initializer=tf.random_normal_initializer(mu,sigma)),\n",
    "        'fully_connected_2': tf.get_variable('fully_connected_2w', shape=(layer_depth['fully_connected_1'], layer_depth['fully_connected_2']),initializer=tf.random_normal_initializer(mu,sigma)),\n",
    "        'out': tf.get_variable('outw', shape=(layer_depth['fully_connected_2'], layer_depth['out']),initializer=tf.random_normal_initializer(mu,sigma))\n",
    "    }\n",
    "    #+0.3 over the first epochs than +-0\n",
    "\n",
    "    biases = {\n",
    "        'layer_1': tf.get_variable('layer_1b', shape=(layer_depth['layer_1']),initializer=tf.zeros_initializer),\n",
    "        'layer_2': tf.get_variable('layer_2b', shape=(layer_depth['layer_2']),initializer=tf.zeros_initializer),\n",
    "        'fully_connected_1': tf.get_variable('fully_connected_1b', shape=(layer_depth['fully_connected_1']),initializer=tf.zeros_initializer),\n",
    "        'fully_connected_2': tf.get_variable('fully_connected_2b', shape=(layer_depth['fully_connected_2']),initializer=tf.zeros_initializer),\n",
    "        'out': tf.get_variable('outb', shape=(layer_depth['out']),initializer=tf.zeros_initializer)\n",
    "    }\n",
    "\n",
    "def CNNMNIST_teacher(x):\n",
    "    # Layer 1: Convolutional. Input = 28x28xcNum. Output = 24x24xlayer_depth['layer_1'].\n",
    "    conv1   = tf.nn.conv2d(x, weights['layer_1'], strides=[1, 1, 1, 1], padding='VALID') + biases['layer_1']\n",
    "    print('conv1 has shape=',conv1.shape)\n",
    "\n",
    "    # Activation.\n",
    "    conv1 = tf.nn.relu(conv1)\n",
    "\n",
    "    # Pooling. Input = 24x24xlayer_depth['layer_1']. Output = 12x12xlayer_depth['layer_1'].\n",
    "    conv1 = tf.nn.max_pool(conv1, ksize=[1, 2, 2, 1], strides=[1, 2, 2, 1], padding='VALID')\n",
    "\n",
    "    # Layer 2: Convolutional. Output = 8x8xlayer_depth['layer_2'].\n",
    "    conv2   = tf.nn.conv2d(conv1, weights['layer_2'], strides=[1, 1, 1, 1], padding='VALID') + biases['layer_2']\n",
    "    print('conv2 has shape=',conv2.shape)\n",
    "\n",
    "    # SOLUTION: Activation.\n",
    "    conv2 = tf.nn.relu(conv2)\n",
    "\n",
    "    # SOLUTION: Pooling. Input = 8x8xlayer_depth['layer_2']. Output = 4x4xlayer_depth['layer_2'].\n",
    "    conv2 = tf.nn.max_pool(conv2, ksize=[1, 2, 2, 1], strides=[1, 2, 2, 1], padding='VALID')\n",
    "\n",
    "    # SOLUTION: Flatten. Input = 4x4xlayer_depth['layer_2']. Output = 4x4xlayer_depth['layer_2'].\n",
    "    print('flatten(conv2) has shape=',flatten(conv2).shape)\n",
    "    #print('flatten(conv1) has shape=',tf.shape(flatten(conv1)))\n",
    "    #fc0   = tf.concat(1,[flatten(conv2), flatten(conv1)])\n",
    "    fc0 = flatten(conv2)\n",
    "\n",
    "    # SOLUTION: Layer 3: Fully Connected. Input = 5x5xlayer_depth['layer_2']. Output = layer_depth['fully_connected_1'].\n",
    "    fc1   = tf.matmul(fc0, weights['fully_connected_1']) + biases['fully_connected_1']\n",
    "\n",
    "    # SOLUTION: Activation.\n",
    "    fc1    = tf.nn.relu(fc1)\n",
    "    fc1 = tf.nn.dropout(fc1, keep_prob)    # dropout\n",
    "\n",
    "    # SOLUTION: Layer 4: Fully Connected. Input = layer_depth['fully_connected_1']. Output = layer_depth['fully_connected_2'].\n",
    "    fc2    = tf.matmul(fc1, weights['fully_connected_2']) + biases['fully_connected_2']\n",
    "    fc2 = tf.nn.dropout(fc2, keep_prob)    # dropout\n",
    "\n",
    "    # SOLUTION: Activation.\n",
    "    fc2    = tf.nn.relu(fc2)\n",
    "\n",
    "    # SOLUTION: Layer 5: Fully Connected. Input = layer_depth['fully_connected_2']. Output = layer_depth['out'].\n",
    "    logits = tf.matmul(fc2, weights['out']) + biases['out']\n",
    "    print('logits has shape=',logits.shape)\n",
    "    return logits\n",
    "\n",
    "logits = CNNMNIST_teacher(x_feed)"
   ]
  },
  {
   "cell_type": "code",
   "execution_count": 12,
   "metadata": {
    "collapsed": true
   },
   "outputs": [],
   "source": [
    "with tf.variable_scope('student'):\n",
    "    weights_student = {\n",
    "        'permutation': tf.get_variable('permutation',shape=(img_height,img_width),trainable=True),\n",
    "        'layer_1': tf.get_variable('layer_1w', shape=(kSize, kSize, cNum, layer_depth['layer_1']), initializer=tf.random_normal_initializer(mu,sigma), trainable=False),\n",
    "        'layer_2': tf.get_variable('layer_2w', shape=(kSize, kSize, layer_depth['layer_1'], layer_depth['layer_2']), initializer=tf.random_normal_initializer(mu,sigma), trainable=False),\n",
    "        'fully_connected_1': tf.get_variable('fully_connected_1w', shape=(4*4*layer_depth['layer_2'], layer_depth['fully_connected_1']), initializer=tf.random_normal_initializer(mu,sigma), trainable=False),\n",
    "        'fully_connected_2': tf.get_variable('fully_connected_2w', shape=(layer_depth['fully_connected_1'], layer_depth['fully_connected_2']), initializer=tf.random_normal_initializer(mu,sigma), trainable=False),\n",
    "        'out': tf.get_variable('outw', shape=(layer_depth['fully_connected_2'], layer_depth['out']), initializer=tf.random_normal_initializer(mu,sigma), trainable=False)\n",
    "    }\n",
    "    #+0.3 over the first epochs than +-0\n",
    "\n",
    "    biases_student = {\n",
    "        'layer_1': tf.get_variable('layer_1b', shape=(layer_depth['layer_1']),\\\n",
    "                                   initializer=tf.zeros_initializer, trainable=False),\n",
    "        'layer_2': tf.get_variable('layer_2b', shape=(layer_depth['layer_2']),\\\n",
    "                                   initializer=tf.zeros_initializer, trainable=False),\n",
    "        'fully_connected_1': tf.get_variable('fully_connected_1b', shape=(layer_depth['fully_connected_1']),\\\n",
    "                                             initializer=tf.zeros_initializer, trainable=False),\n",
    "        'fully_connected_2': tf.get_variable('fully_connected_2b', shape=(layer_depth['fully_connected_2']),\\\n",
    "                                             initializer=tf.zeros_initializer, trainable=False),\n",
    "        'out': tf.get_variable('outb', shape=(layer_depth['out']),initializer=tf.zeros_initializer, trainable=False)\n",
    "    }\n"
   ]
  },
  {
   "cell_type": "code",
   "execution_count": 13,
   "metadata": {},
   "outputs": [
    {
     "name": "stdout",
     "output_type": "stream",
     "text": [
      "Without Scope: len(trainable_collection_t)=10; len(global_collection_t)=10\n",
      "Without Scope: len(trainable_collection_s)=1; len(global_collection_s)=11\n",
      "Without Scope: len(trainable_collection)=11; len(global_collection)=21\n"
     ]
    }
   ],
   "source": [
    "trainable_collection_t = tf.get_collection(tf.GraphKeys.TRAINABLE_VARIABLES,scope='teacher')\n",
    "global_collection_t = tf.get_collection(tf.GraphKeys.GLOBAL_VARIABLES,scope='teacher')\n",
    "print('Without Scope: len(trainable_collection_t)={}; len(global_collection_t)={}'.format(len(trainable_collection_t),len(global_collection_t)))\n",
    "\n",
    "trainable_collection_s = tf.get_collection(tf.GraphKeys.TRAINABLE_VARIABLES,scope='student')\n",
    "global_collection_s = tf.get_collection(tf.GraphKeys.GLOBAL_VARIABLES,scope='student')\n",
    "print('Without Scope: len(trainable_collection_s)={}; len(global_collection_s)={}'.format(len(trainable_collection_s),len(global_collection_s)))\n",
    "\n",
    "trainable_collection = tf.get_collection(tf.GraphKeys.TRAINABLE_VARIABLES)\n",
    "global_collection = tf.get_collection(tf.GraphKeys.GLOBAL_VARIABLES)\n",
    "print('Without Scope: len(trainable_collection)={}; len(global_collection)={}'.format(len(trainable_collection),len(global_collection)))"
   ]
  },
  {
   "cell_type": "code",
   "execution_count": 14,
   "metadata": {},
   "outputs": [
    {
     "name": "stdout",
     "output_type": "stream",
     "text": [
      "[<tf.Variable 'teacher/layer_1w:0' shape=(5, 5, 1, 16) dtype=float32_ref>, <tf.Variable 'teacher/layer_2w:0' shape=(5, 5, 16, 32) dtype=float32_ref>, <tf.Variable 'teacher/fully_connected_1w:0' shape=(512, 256) dtype=float32_ref>, <tf.Variable 'teacher/fully_connected_2w:0' shape=(256, 128) dtype=float32_ref>, <tf.Variable 'teacher/outw:0' shape=(128, 2) dtype=float32_ref>, <tf.Variable 'teacher/layer_1b:0' shape=(16,) dtype=float32_ref>, <tf.Variable 'teacher/layer_2b:0' shape=(32,) dtype=float32_ref>, <tf.Variable 'teacher/fully_connected_1b:0' shape=(256,) dtype=float32_ref>, <tf.Variable 'teacher/fully_connected_2b:0' shape=(128,) dtype=float32_ref>, <tf.Variable 'teacher/outb:0' shape=(2,) dtype=float32_ref>]\n",
      "\n",
      "\n",
      "[<tf.Variable 'student/permutation:0' shape=(28, 28) dtype=float32_ref>]\n"
     ]
    }
   ],
   "source": [
    "print(trainable_collection_t)\n",
    "print('\\n')\n",
    "print(trainable_collection_s)"
   ]
  },
  {
   "cell_type": "code",
   "execution_count": 15,
   "metadata": {},
   "outputs": [
    {
     "name": "stdout",
     "output_type": "stream",
     "text": [
      "(?, 28, 28)\n",
      "conv1 has shape= (?, 24, 24, 16)\n",
      "conv2 has shape= (?, 8, 8, 32)\n",
      "flatten(conv2) has shape= (?, 512)\n",
      "logits has shape= (?, 2)\n"
     ]
    }
   ],
   "source": [
    "def CNNMNIST_student(x):\n",
    "    bsize = tf.shape(x)[0]\n",
    "    # processing the permutation matrix\n",
    "    #x = tf.squeeze(x) # (batch_sizex28x28)\n",
    "    x = tf.reshape(x,shape=(bsize,img_height,img_width))\n",
    "    permutation = tf.tile(tf.expand_dims(weights_student['permutation'],0),[bsize,1,1])\n",
    "    print(permutation.shape)\n",
    "    x = tf.matmul(permutation,x) # (batchsizex28x28)\n",
    "    x = tf.expand_dims(x,-1) # (batchsizex28x28x1)\n",
    "    \n",
    "    after_permute_x = x\n",
    "    \n",
    "    # Layer 1: Convolutional. Input = 28x28xcNum. Output = 24x24xlayer_depth['layer_1'].\n",
    "    conv1   = tf.nn.conv2d(x, weights_student['layer_1'], strides=[1, 1, 1, 1], padding='VALID') + biases_student['layer_1']\n",
    "    print('conv1 has shape=',conv1.shape)\n",
    "\n",
    "    # Activation.\n",
    "    conv1 = tf.nn.relu(conv1)\n",
    "\n",
    "    # Pooling. Input = 24x24xlayer_depth['layer_1']. Output = 12x12xlayer_depth['layer_1'].\n",
    "    conv1 = tf.nn.max_pool(conv1, ksize=[1, 2, 2, 1], strides=[1, 2, 2, 1], padding='VALID')\n",
    "\n",
    "    # Layer 2: Convolutional. Output = 8x8xlayer_depth['layer_2'].\n",
    "    conv2   = tf.nn.conv2d(conv1, weights_student['layer_2'], strides=[1, 1, 1, 1], padding='VALID') + biases_student['layer_2']\n",
    "    print('conv2 has shape=',conv2.shape)\n",
    "\n",
    "    # SOLUTION: Activation.\n",
    "    conv2 = tf.nn.relu(conv2)\n",
    "\n",
    "    # SOLUTION: Pooling. Input = 8x8xlayer_depth['layer_2']. Output = 4x4xlayer_depth['layer_2'].\n",
    "    conv2 = tf.nn.max_pool(conv2, ksize=[1, 2, 2, 1], strides=[1, 2, 2, 1], padding='VALID')\n",
    "\n",
    "    # SOLUTION: Flatten. Input = 4x4xlayer_depth['layer_2']. Output = 4x4xlayer_depth['layer_2'].\n",
    "    print('flatten(conv2) has shape=',flatten(conv2).shape)\n",
    "    #print('flatten(conv1) has shape=',tf.shape(flatten(conv1)))\n",
    "    #fc0   = tf.concat(1,[flatten(conv2), flatten(conv1)])\n",
    "    fc0 = flatten(conv2)\n",
    "\n",
    "    # SOLUTION: Layer 3: Fully Connected. Input = 5x5xlayer_depth['layer_2']. Output = layer_depth['fully_connected_1'].\n",
    "    fc1   = tf.matmul(fc0, weights_student['fully_connected_1']) + biases_student['fully_connected_1']\n",
    "\n",
    "    # SOLUTION: Activation.\n",
    "    fc1    = tf.nn.relu(fc1)\n",
    "    fc1 = tf.nn.dropout(fc1, keep_prob)    # dropout\n",
    "\n",
    "    # SOLUTION: Layer 4: Fully Connected. Input = layer_depth['fully_connected_1']. Output = layer_depth['fully_connected_2'].\n",
    "    fc2    = tf.matmul(fc1, weights_student['fully_connected_2']) + biases_student['fully_connected_2']\n",
    "    fc2 = tf.nn.dropout(fc2, keep_prob)    # dropout\n",
    "\n",
    "    # SOLUTION: Activation.\n",
    "    fc2    = tf.nn.relu(fc2)\n",
    "\n",
    "    # SOLUTION: Layer 5: Fully Connected. Input = layer_depth['fully_connected_2']. Output = layer_depth['out'].\n",
    "    logits = tf.matmul(fc2, weights_student['out']) + biases_student['out']\n",
    "    print('logits has shape=',logits.shape)\n",
    "    return logits, after_permute_x\n",
    "\n",
    "logits_student, after_permute_x = CNNMNIST_student(x_feed_student)"
   ]
  },
  {
   "cell_type": "markdown",
   "metadata": {},
   "source": [
    "### Define loss and optimizer"
   ]
  },
  {
   "cell_type": "code",
   "execution_count": 16,
   "metadata": {
    "collapsed": true
   },
   "outputs": [],
   "source": [
    "# Define loss, optimizer\n",
    "# softmax_cross_entropy_with_logits: https://www.tensorflow.org/versions/r1.2/api_docs/python/tf/nn/softmax_cross_entropy_with_logits\n",
    "# labels: Each row labels[i] must be a valid probability distribution.\n",
    "# logits: Unscaled log probabilities.\n",
    "cross_entropy = tf.nn.softmax_cross_entropy_with_logits(labels=one_hot_y_feed,logits=logits)\n",
    "\n",
    "loss_operation = tf.reduce_mean(cross_entropy)\n",
    "optimizer = tf.train.AdamOptimizer(learning_rate = rate)\n",
    "training_operation = optimizer.minimize(loss_operation)\n",
    "\n",
    "loss_tf_op = tf.nn.l2_loss(logits_student-logits)\n",
    "optimizer_tf = tf.train.AdamOptimizer(learning_rate = rate)\n",
    "training_tf_operation = optimizer_tf.minimize(loss_tf_op, var_list = trainable_collection_s)"
   ]
  },
  {
   "cell_type": "code",
   "execution_count": 17,
   "metadata": {
    "collapsed": true
   },
   "outputs": [],
   "source": [
    "# Define accuracy evaluation\n",
    "# calculate the average accuracy by calling evaluate(X_data, y_data)\n",
    "correct_prediction = tf.equal(tf.argmax(logits, axis=1), tf.argmax(one_hot_y_feed, axis=1))\n",
    "accuracy_operation = tf.reduce_mean(tf.cast(correct_prediction, tf.float32))\n",
    "\n",
    "def evaluate(X_data, y_data):\n",
    "    num_examples = len(X_data)\n",
    "    assert(len(X_data)==len(y_data))\n",
    "    total_accuracy = 0\n",
    "    sess = tf.get_default_session()\n",
    "    for offset in range(0, num_examples, BATCH_SIZE):\n",
    "        batch_x, batch_y = X_data[offset:offset+BATCH_SIZE], y_data[offset:offset+BATCH_SIZE]\n",
    "        accuracy = sess.run(accuracy_operation, feed_dict={x_feed: batch_x, one_hot_y_feed: batch_y, keep_prob: 1.0})\n",
    "        total_accuracy += (accuracy * len(batch_x))\n",
    "    return total_accuracy / num_examples\n",
    "\n",
    "correct_prediction_student = tf.equal(tf.argmax(logits_student, axis=1), tf.argmax(one_hot_y_feed_student, axis=1))\n",
    "accuracy_operation_student = tf.reduce_mean(tf.cast(correct_prediction_student, tf.float32))\n",
    "def evaluate_student(X_data, y_data):\n",
    "    num_examples = len(X_data)\n",
    "    assert(len(X_data)==len(y_data))\n",
    "    total_accuracy = 0\n",
    "    sess = tf.get_default_session()\n",
    "    for offset in range(0, num_examples, BATCH_SIZE):\n",
    "        batch_x, batch_y = X_data[offset:offset+BATCH_SIZE], y_data[offset:offset+BATCH_SIZE]\n",
    "        accuracy = sess.run(accuracy_operation_student, feed_dict={x_feed_student: batch_x, one_hot_y_feed_student: batch_y, keep_prob: 1.0})\n",
    "        total_accuracy += (accuracy * len(batch_x))\n",
    "    return total_accuracy / num_examples"
   ]
  },
  {
   "cell_type": "markdown",
   "metadata": {},
   "source": [
    "## Run Session"
   ]
  },
  {
   "cell_type": "code",
   "execution_count": 18,
   "metadata": {},
   "outputs": [
    {
     "name": "stdout",
     "output_type": "stream",
     "text": [
      "Training...\n",
      "\n",
      "EPOCH 1 ...\n",
      "Train Accuracy = 0.986; Flip Accuracy = 0.065\n",
      "\n",
      "EPOCH 2 ...\n",
      "Train Accuracy = 0.999; Flip Accuracy = 0.083\n",
      "\n",
      "EPOCH 3 ...\n",
      "Train Accuracy = 0.999; Flip Accuracy = 0.093\n",
      "\n",
      "Before assignment\n",
      "After assignment\n",
      "EPOCH 1 ...\n",
      "Acc loss = 5.615970120655011\n",
      "Train Accuracy = 0.279; Flip Accuracy = 0.947\n",
      "\n",
      "EPOCH 2 ...\n",
      "Acc loss = 1.9494884885034043\n",
      "Train Accuracy = 0.208; Flip Accuracy = 0.990\n",
      "\n",
      "EPOCH 3 ...\n",
      "Acc loss = 1.4512659598708362\n",
      "Train Accuracy = 0.175; Flip Accuracy = 0.996\n",
      "\n",
      "EPOCH 4 ...\n",
      "Acc loss = 1.1984122196211897\n",
      "Train Accuracy = 0.148; Flip Accuracy = 0.997\n",
      "\n",
      "EPOCH 5 ...\n",
      "Acc loss = 1.0114140402216907\n",
      "Train Accuracy = 0.152; Flip Accuracy = 0.997\n",
      "\n",
      "EPOCH 6 ...\n",
      "Acc loss = 0.8944660004647453\n",
      "Train Accuracy = 0.141; Flip Accuracy = 0.997\n",
      "\n",
      "EPOCH 7 ...\n",
      "Acc loss = 0.8054127535707278\n",
      "Train Accuracy = 0.133; Flip Accuracy = 0.997\n",
      "\n",
      "EPOCH 8 ...\n",
      "Acc loss = 0.7411507803101338\n",
      "Train Accuracy = 0.132; Flip Accuracy = 0.997\n",
      "\n",
      "EPOCH 9 ...\n",
      "Acc loss = 0.7160771973228929\n",
      "Train Accuracy = 0.126; Flip Accuracy = 0.998\n",
      "\n",
      "EPOCH 10 ...\n",
      "Acc loss = 0.6491963050806493\n",
      "Train Accuracy = 0.129; Flip Accuracy = 0.998\n",
      "\n",
      "Model saved\n"
     ]
    }
   ],
   "source": [
    "### Train your model here.\n",
    "# mini-batch Adam training, will save model as ./models/mnist-cnn-model\n",
    "if not os.path.isdir('./models'):\n",
    "    os.makedirs('./models')\n",
    "saver = tf.train.Saver()\n",
    "with tf.Session() as sess:\n",
    "    sess.run(tf.global_variables_initializer())\n",
    "    num_examples = x_num\n",
    "    \n",
    "    print(\"Training...\")\n",
    "    print()\n",
    "    train_accuracy = np.zeros(EPOCHS)\n",
    "    flip_accuracy = np.zeros(EPOCHS)\n",
    "    for i in range(EPOCHS):\n",
    "        acc_train_accuracy = 0\n",
    "        X_train, y_train = shuffle(x, y1hot)\n",
    "        for offset in range(0, num_examples, BATCH_SIZE):\n",
    "            end = offset + BATCH_SIZE\n",
    "            batch_x, batch_y = X_train[offset:end], y_train[offset:end]\n",
    "            sess.run(training_operation, feed_dict={x_feed: batch_x, one_hot_y_feed: batch_y, keep_prob: drop_out_keep_prob})\n",
    "            acc_train_accuracy += evaluate(batch_x, batch_y)\n",
    "        train_accuracy[i] = acc_train_accuracy/len(range(0, num_examples, BATCH_SIZE))\n",
    "        flip_accuracy[i] = evaluate(x_flip, y1hot_flip)\n",
    "        print(\"EPOCH {} ...\".format(i+1))\n",
    "        #print(\"Train Accuracy = {:.3f}\".format(train_accuracy[i]))\n",
    "        print(\"Train Accuracy = {:.3f}; Flip Accuracy = {:.3f}\".format(train_accuracy[i],flip_accuracy[i]))\n",
    "        print()\n",
    "    \n",
    "    \"\"\"\n",
    "    We Then Do the Copy from Teacher to Student Models\n",
    "    \"\"\"\n",
    "    print('Before assignment')\n",
    "    #print(sess.run(weights_student['layer_1']))\n",
    "    sess.run(weights_student['layer_1'].assign(weights['layer_1']))\n",
    "    sess.run(weights_student['layer_2'].assign(weights['layer_2']))\n",
    "    sess.run(weights_student['fully_connected_1'].assign(weights['fully_connected_1']))\n",
    "    sess.run(weights_student['fully_connected_2'].assign(weights['fully_connected_2']))\n",
    "    sess.run(weights_student['out'].assign(weights['out']))\n",
    "    sess.run(biases_student['layer_1'].assign(biases['layer_1']))\n",
    "    sess.run(biases_student['layer_2'].assign(biases['layer_2']))\n",
    "    sess.run(biases_student['fully_connected_1'].assign(biases['fully_connected_1']))\n",
    "    sess.run(biases_student['fully_connected_2'].assign(biases['fully_connected_2']))\n",
    "    sess.run(biases_student['out'].assign(biases['out']))\n",
    "    print('After assignment')\n",
    "    #print(sess.run(weights_student['layer_1']))\n",
    "    \n",
    "    \"\"\"\n",
    "    Using Flipped Images to Unsupervised Training the Original Net\n",
    "    \"\"\"\n",
    "    train_accuracy_tf = np.zeros(EPOCHS_TF)\n",
    "    flip_accuracy_tf = np.zeros(EPOCHS_TF)\n",
    "    for i in range(EPOCHS_TF):\n",
    "        acc_loss = 0.0\n",
    "        X_train, X_train_flip = shuffle(x_rest, x_rest_flip)\n",
    "        for offset in range(0, num_examples, BATCH_SIZE):\n",
    "            end = offset + BATCH_SIZE\n",
    "            batch_x = X_train[offset:end]\n",
    "            batch_x_flip = X_train_flip[offset:end]\n",
    "            _, l = sess.run([training_tf_operation, loss_tf_op], feed_dict={x_feed: batch_x,\\\n",
    "                                                                            x_feed_student: batch_x_flip,\\\n",
    "                                                                            keep_prob: 1.0})\n",
    "            #print('Current loss in batch = {}'.format(l))\n",
    "            acc_loss += l\n",
    "        acc_loss /= num_examples\n",
    "        #train_accuracy_tf[i] = evaluate(x, y1hot)\n",
    "        train_accuracy_tf[i] = evaluate_student(x, y1hot)\n",
    "        flip_accuracy_tf[i] = evaluate_student(x_flip, y1hot_flip)\n",
    "        print(\"EPOCH {} ...\".format(i+1))\n",
    "        print(\"Acc loss = {}\".format(acc_loss))\n",
    "        print(\"Train Accuracy = {:.3f}; Flip Accuracy = {:.3f}\".format(train_accuracy_tf[i],flip_accuracy_tf[i]))\n",
    "        print()\n",
    "    saver.save(sess, './models/mnist-cnn-model')\n",
    "    print(\"Model saved\")\n",
    "    "
   ]
  },
  {
   "cell_type": "markdown",
   "metadata": {
    "collapsed": true
   },
   "source": [
    "### We then checkout the permutation matrix !"
   ]
  },
  {
   "cell_type": "code",
   "execution_count": 25,
   "metadata": {},
   "outputs": [
    {
     "name": "stdout",
     "output_type": "stream",
     "text": [
      "INFO:tensorflow:Restoring parameters from ./models\\mnist-cnn-model\n",
      "(10871, 28, 28, 1)\n"
     ]
    },
    {
     "data": {
      "image/png": "[encoded data removed]",
      "text/plain": [
       "<matplotlib.figure.Figure at 0x29390d1eef0>"
      ]
     },
     "metadata": {},
     "output_type": "display_data"
    },
    {
     "data": {
      "image/png": "[encoded data removed]",
      "text/plain": [
       "<matplotlib.figure.Figure at 0x29392507cf8>"
      ]
     },
     "metadata": {},
     "output_type": "display_data"
    }
   ],
   "source": [
    "saver = tf.train.Saver()\n",
    "with tf.Session() as sess:\n",
    "    saver.restore(sess, tf.train.latest_checkpoint('./models'))\n",
    "    x_flip_permute = sess.run(after_permute_x,feed_dict={x_feed_student:x_flip})\n",
    "    plt.figure(figsize=(15,5))\n",
    "    for i in np.arange(2*7):\n",
    "        plt.subplot(2,7,i+1)\n",
    "        plt.imshow(x_flip[5411+i][...,0],cmap='gray')\n",
    "    plt.figure(figsize=(15,5))\n",
    "    for i in np.arange(2*7):\n",
    "        plt.subplot(2,7,i+1)\n",
    "        plt.imshow(x_flip_permute[5411+i][...,0],cmap='gray')\n",
    "    print(x_flip_permute.shape)"
   ]
  },
  {
   "cell_type": "code",
   "execution_count": null,
   "metadata": {
    "collapsed": true
   },
   "outputs": [],
   "source": []
  }
 ],
 "metadata": {
  "anaconda-cloud": {},
  "kernelspec": {
   "display_name": "Python 3",
   "language": "python",
   "name": "python3"
  },
  "language_info": {
   "codemirror_mode": {
    "name": "ipython",
    "version": 3
   },
   "file_extension": ".py",
   "mimetype": "text/x-python",
   "name": "python",
   "nbconvert_exporter": "python",
   "pygments_lexer": "ipython3",
   "version": "3.5.3"
  }
 },
 "nbformat": 4,
 "nbformat_minor": 2
}
