{
 "cells": [
  {
   "cell_type": "markdown",
   "metadata": {},
   "source": [
    "## CNN Classifier Experiments with MNIST\n",
    "A typical CNN classifier for MNIST. Could makes 99% in both train and validation set"
   ]
  },
  {
   "cell_type": "code",
   "execution_count": 1,
   "metadata": {
    "collapsed": true
   },
   "outputs": [],
   "source": [
    "import gzip\n",
    "import os\n",
    "import tempfile\n",
    "import numpy as np\n",
    "import matplotlib.pyplot as plt\n",
    "%matplotlib inline\n",
    "import tensorflow as tf\n",
    "from tensorflow.contrib.layers import flatten\n",
    "# from tensorflow.contrib.learn.python.learn.datasets.mnist import read_data_sets\n",
    "from tensorflow.examples.tutorials.mnist import input_data\n",
    "# Shuffle arrays or sparse matrices in a consistent way\n",
    "from sklearn.utils import shuffle"
   ]
  },
  {
   "cell_type": "markdown",
   "metadata": {},
   "source": [
    "## Data Loading and Plotting"
   ]
  },
  {
   "cell_type": "code",
   "execution_count": 2,
   "metadata": {},
   "outputs": [
    {
     "name": "stdout",
     "output_type": "stream",
     "text": [
      "Extracting ../dataset/MNIST_data/train-images-idx3-ubyte.gz\n",
      "Extracting ../dataset/MNIST_data/train-labels-idx1-ubyte.gz\n",
      "Extracting ../dataset/MNIST_data/t10k-images-idx3-ubyte.gz\n",
      "Extracting ../dataset/MNIST_data/t10k-labels-idx1-ubyte.gz\n"
     ]
    }
   ],
   "source": [
    "dataPath='../dataset/MNIST_data/'\n",
    "mnist = input_data.read_data_sets(dataPath, one_hot=True)"
   ]
  },
  {
   "cell_type": "code",
   "execution_count": 3,
   "metadata": {
    "collapsed": true
   },
   "outputs": [],
   "source": [
    "# read the images and reformat the image shape from [img_num,img_height,img_width] to [img_num,img_height,img_width,1]\n",
    "img_width = 28\n",
    "img_height = 28\n",
    "images = mnist.train.images"
   ]
  },
  {
   "cell_type": "code",
   "execution_count": 4,
   "metadata": {},
   "outputs": [
    {
     "name": "stdout",
     "output_type": "stream",
     "text": [
      "Having 5417 and 5454 for 6 and 9 respectively\n"
     ]
    }
   ],
   "source": [
    "# read the labels, 6 --> class 0; 9 --> class 1\n",
    "y1hot_all = mnist.train.labels\n",
    "y_all = np.argmax(y1hot_all,axis=1)\n",
    "idx6 = np.nonzero(y_all==6)[0]\n",
    "idx9 = np.nonzero(y_all==9)[0]\n",
    "idx69 = np.concatenate([idx6, idx9])\n",
    "print('Having {} and {} for 6 and 9 respectively'.format(len(idx6),len(idx9)))\n",
    "y = np.copy(y_all)\n",
    "y[idx6] = 0\n",
    "y[idx9] = 1\n",
    "y = y[idx69]\n",
    "y = y[...,np.newaxis]\n",
    "y1hot = [[int(x[6]), int(x[9])] for x in y1hot_all[idx69]]"
   ]
  },
  {
   "cell_type": "code",
   "execution_count": 5,
   "metadata": {
    "collapsed": true
   },
   "outputs": [],
   "source": [
    "allidx = set(range(len(y_all)))\n",
    "restidx = list(set.difference(allidx,set(idx69)))\n",
    "#print(len(restidx),len(idx69),len(allidx))\n",
    "#assert(len(restidx)+len(idx69)==len(allidx))\n",
    "y1hot_rest_flip = [[1, 0] for x in y1hot_all[restidx]]\n",
    "#print(len(y1hot_rest_flip))"
   ]
  },
  {
   "cell_type": "code",
   "execution_count": 6,
   "metadata": {},
   "outputs": [
    {
     "name": "stdout",
     "output_type": "stream",
     "text": [
      "(Input to CNN) Images with shape (10871, 28, 28, 1)\n",
      "(Input to CNN) Rest of Images with shape (44129, 28, 28, 1)\n"
     ]
    }
   ],
   "source": [
    "# read the images and reformat the image shape from [img_num,img_height,img_width] to [img_num,img_height,img_width,1]\n",
    "# extract 6, 9 as training images. The rest of images are for unsupervised training\n",
    "n_classes = 2\n",
    "x = images[idx69]\n",
    "x_num, _ = x.shape\n",
    "assert(len(x)==len(y))\n",
    "x = np.reshape(x,(x_num,img_height,img_width))\n",
    "x = x[...,np.newaxis]\n",
    "print('(Input to CNN) Images with shape {}'.format(x.shape))\n",
    "restidx = list( set.difference( set(range(len(images))), set(idx69) ) )\n",
    "assert(len(restidx)+len(x)==len(images))\n",
    "x_rest = images[restidx]\n",
    "x_rest_num, _ = x_rest.shape\n",
    "x_rest = np.reshape(x_rest,(x_rest_num,img_height,img_width))\n",
    "x_rest = x_rest[...,np.newaxis]\n",
    "print('(Input to CNN) Rest of Images with shape {}'.format(x_rest.shape))"
   ]
  },
  {
   "cell_type": "code",
   "execution_count": 7,
   "metadata": {},
   "outputs": [
    {
     "data": {
      "image/png": "[encoded data removed]",
      "text/plain": [
       "<matplotlib.figure.Figure at 0x7f5b81d7a9b0>"
      ]
     },
     "metadata": {},
     "output_type": "display_data"
    }
   ],
   "source": [
    "# generate testing input as flipping upside down images to training data\n",
    "y1hot_flip = np.copy(y1hot)\n",
    "y_flip = np.copy(y)\n",
    "def flip(img):\n",
    "    rtnimg = np.array([img[img_height-1-i,...] for i in range(img_height)])\n",
    "    return rtnimg\n",
    "x_flip = list(map(lambda img: flip(img),x))\n",
    "plt.figure(figsize=(15,5))\n",
    "for i in np.arange(2*7):\n",
    "    plt.subplot(2,7,i+1)\n",
    "    plt.imshow(x_flip[5411+i][...,0],cmap='gray')\n",
    "    plt.title(y_flip[5411+i][0])\n",
    "    \n",
    "x_rest_flip = list(map(lambda img: flip(img),x_rest))"
   ]
  },
  {
   "cell_type": "markdown",
   "metadata": {
    "collapsed": true
   },
   "source": [
    "## CNN Graph Construction\n",
    "\n",
    "1. Define the input output tensors\n",
    "2. Define the graph and construct it\n",
    "3. Define the loss and optimizer\n",
    "\n",
    "### First define the hyper-parameters"
   ]
  },
  {
   "cell_type": "code",
   "execution_count": 8,
   "metadata": {
    "collapsed": true
   },
   "outputs": [],
   "source": [
    "# Hyper-parameters\n",
    "EPOCHS = 3\n",
    "EPOCHS_TF = 10\n",
    "BATCH_SIZE = 128\n",
    "rate = 0.001\n",
    "drop_out_keep_prob = 0.5"
   ]
  },
  {
   "cell_type": "markdown",
   "metadata": {},
   "source": [
    "### Define the input output tensors"
   ]
  },
  {
   "cell_type": "code",
   "execution_count": 9,
   "metadata": {
    "collapsed": true
   },
   "outputs": [],
   "source": [
    "# using one-hot decoding\n",
    "cNum = 1\n",
    "x_feed = tf.placeholder(tf.float32, (None, img_height, img_width, cNum))\n",
    "one_hot_y_feed = tf.placeholder(tf.int32, (None, n_classes))\n",
    "\n",
    "x_feed_student = tf.placeholder(tf.float32, (None, img_height, img_width, cNum))\n",
    "one_hot_y_feed_student = tf.placeholder(tf.int32, (None, n_classes))\n",
    "#one_hot_y = tf.one_hot(y, n_classes)"
   ]
  },
  {
   "cell_type": "markdown",
   "metadata": {},
   "source": [
    "### Define the graph and construct it"
   ]
  },
  {
   "cell_type": "code",
   "execution_count": 10,
   "metadata": {
    "collapsed": true
   },
   "outputs": [],
   "source": [
    "kSize = 5\n",
    "mu = 0\n",
    "sigma = 0.1\n",
    "layer_depth = {\n",
    "    'layer_1': 16,\n",
    "    'layer_2': 32,\n",
    "    'fully_connected_1': 256,\n",
    "    'fully_connected_2': 128,\n",
    "    'out': n_classes,\n",
    "}\n",
    "keep_prob = tf.placeholder(tf.float32) # probability to keep units"
   ]
  },
  {
   "cell_type": "code",
   "execution_count": 11,
   "metadata": {
    "scrolled": true
   },
   "outputs": [
    {
     "name": "stdout",
     "output_type": "stream",
     "text": [
      "conv1 has shape= (?, 24, 24, 16)\n",
      "conv2 has shape= (?, 8, 8, 32)\n",
      "flatten(conv2) has shape= (?, 512)\n",
      "logits has shape= (?, 2)\n"
     ]
    }
   ],
   "source": [
    "# CNN architecture\n",
    "\n",
    "with tf.variable_scope('teacher'):\n",
    "    weights = {\n",
    "        'layer_1': tf.get_variable('layer_1w', shape=(kSize, kSize, cNum, layer_depth['layer_1']),initializer=tf.random_normal_initializer(mu,sigma)),\n",
    "        'layer_2': tf.get_variable('layer_2w', shape=(kSize, kSize, layer_depth['layer_1'], layer_depth['layer_2']),initializer=tf.random_normal_initializer(mu,sigma)),\n",
    "        'fully_connected_1': tf.get_variable('fully_connected_1w', shape=(4*4*layer_depth['layer_2'], layer_depth['fully_connected_1']),initializer=tf.random_normal_initializer(mu,sigma)),\n",
    "        'fully_connected_2': tf.get_variable('fully_connected_2w', shape=(layer_depth['fully_connected_1'], layer_depth['fully_connected_2']),initializer=tf.random_normal_initializer(mu,sigma)),\n",
    "        'out': tf.get_variable('outw', shape=(layer_depth['fully_connected_2'], layer_depth['out']),initializer=tf.random_normal_initializer(mu,sigma))\n",
    "    }\n",
    "    #+0.3 over the first epochs than +-0\n",
    "\n",
    "    biases = {\n",
    "        'layer_1': tf.get_variable('layer_1b', shape=(layer_depth['layer_1']),initializer=tf.zeros_initializer),\n",
    "        'layer_2': tf.get_variable('layer_2b', shape=(layer_depth['layer_2']),initializer=tf.zeros_initializer),\n",
    "        'fully_connected_1': tf.get_variable('fully_connected_1b', shape=(layer_depth['fully_connected_1']),initializer=tf.zeros_initializer),\n",
    "        'fully_connected_2': tf.get_variable('fully_connected_2b', shape=(layer_depth['fully_connected_2']),initializer=tf.zeros_initializer),\n",
    "        'out': tf.get_variable('outb', shape=(layer_depth['out']),initializer=tf.zeros_initializer)\n",
    "    }\n",
    "\n",
    "def CNNMNIST_teacher(x):\n",
    "    # Layer 1: Convolutional. Input = 28x28xcNum. Output = 24x24xlayer_depth['layer_1'].\n",
    "    conv1   = tf.nn.conv2d(x, weights['layer_1'], strides=[1, 1, 1, 1], padding='VALID') + biases['layer_1']\n",
    "    print('conv1 has shape=',conv1.shape)\n",
    "\n",
    "    # Activation.\n",
    "    conv1 = tf.nn.relu(conv1)\n",
    "\n",
    "    # Pooling. Input = 24x24xlayer_depth['layer_1']. Output = 12x12xlayer_depth['layer_1'].\n",
    "    conv1 = tf.nn.max_pool(conv1, ksize=[1, 2, 2, 1], strides=[1, 2, 2, 1], padding='VALID')\n",
    "\n",
    "    # Layer 2: Convolutional. Output = 8x8xlayer_depth['layer_2'].\n",
    "    conv2   = tf.nn.conv2d(conv1, weights['layer_2'], strides=[1, 1, 1, 1], padding='VALID') + biases['layer_2']\n",
    "    print('conv2 has shape=',conv2.shape)\n",
    "\n",
    "    # SOLUTION: Activation.\n",
    "    conv2 = tf.nn.relu(conv2)\n",
    "\n",
    "    # SOLUTION: Pooling. Input = 8x8xlayer_depth['layer_2']. Output = 4x4xlayer_depth['layer_2'].\n",
    "    conv2 = tf.nn.max_pool(conv2, ksize=[1, 2, 2, 1], strides=[1, 2, 2, 1], padding='VALID')\n",
    "\n",
    "    # SOLUTION: Flatten. Input = 4x4xlayer_depth['layer_2']. Output = 4x4xlayer_depth['layer_2'].\n",
    "    print('flatten(conv2) has shape=',flatten(conv2).shape)\n",
    "    #print('flatten(conv1) has shape=',tf.shape(flatten(conv1)))\n",
    "    #fc0   = tf.concat(1,[flatten(conv2), flatten(conv1)])\n",
    "    fc0 = flatten(conv2)\n",
    "\n",
    "    # SOLUTION: Layer 3: Fully Connected. Input = 5x5xlayer_depth['layer_2']. Output = layer_depth['fully_connected_1'].\n",
    "    fc1   = tf.matmul(fc0, weights['fully_connected_1']) + biases['fully_connected_1']\n",
    "\n",
    "    # SOLUTION: Activation.\n",
    "    fc1    = tf.nn.relu(fc1)\n",
    "    fc1 = tf.nn.dropout(fc1, keep_prob)    # dropout\n",
    "\n",
    "    # SOLUTION: Layer 4: Fully Connected. Input = layer_depth['fully_connected_1']. Output = layer_depth['fully_connected_2'].\n",
    "    fc2    = tf.matmul(fc1, weights['fully_connected_2']) + biases['fully_connected_2']\n",
    "    fc2 = tf.nn.dropout(fc2, keep_prob)    # dropout\n",
    "\n",
    "    # SOLUTION: Activation.\n",
    "    fc2    = tf.nn.relu(fc2)\n",
    "\n",
    "    # SOLUTION: Layer 5: Fully Connected. Input = layer_depth['fully_connected_2']. Output = layer_depth['out'].\n",
    "    logits = tf.matmul(fc2, weights['out']) + biases['out']\n",
    "    print('logits has shape=',logits.shape)\n",
    "    return logits\n",
    "\n",
    "logits = CNNMNIST_teacher(x_feed)"
   ]
  },
  {
   "cell_type": "code",
   "execution_count": 12,
   "metadata": {
    "collapsed": true
   },
   "outputs": [],
   "source": [
    "with tf.variable_scope('student'):\n",
    "    weights_student = {\n",
    "        'permutation': tf.get_variable('permutation',shape=(img_height,img_width),trainable=True),\n",
    "        'layer_1': tf.get_variable('layer_1w', shape=(kSize, kSize, cNum, layer_depth['layer_1']), initializer=tf.random_normal_initializer(mu,sigma), trainable=False),\n",
    "        'layer_2': tf.get_variable('layer_2w', shape=(kSize, kSize, layer_depth['layer_1'], layer_depth['layer_2']), initializer=tf.random_normal_initializer(mu,sigma), trainable=False),\n",
    "        'fully_connected_1': tf.get_variable('fully_connected_1w', shape=(4*4*layer_depth['layer_2'], layer_depth['fully_connected_1']), initializer=tf.random_normal_initializer(mu,sigma), trainable=False),\n",
    "        'fully_connected_2': tf.get_variable('fully_connected_2w', shape=(layer_depth['fully_connected_1'], layer_depth['fully_connected_2']), initializer=tf.random_normal_initializer(mu,sigma), trainable=False),\n",
    "        'out': tf.get_variable('outw', shape=(layer_depth['fully_connected_2'], layer_depth['out']), initializer=tf.random_normal_initializer(mu,sigma), trainable=False)\n",
    "    }\n",
    "    #+0.3 over the first epochs than +-0\n",
    "\n",
    "    biases_student = {\n",
    "        'layer_1': tf.get_variable('layer_1b', shape=(layer_depth['layer_1']),\\\n",
    "                                   initializer=tf.zeros_initializer, trainable=False),\n",
    "        'layer_2': tf.get_variable('layer_2b', shape=(layer_depth['layer_2']),\\\n",
    "                                   initializer=tf.zeros_initializer, trainable=False),\n",
    "        'fully_connected_1': tf.get_variable('fully_connected_1b', shape=(layer_depth['fully_connected_1']),\\\n",
    "                                             initializer=tf.zeros_initializer, trainable=False),\n",
    "        'fully_connected_2': tf.get_variable('fully_connected_2b', shape=(layer_depth['fully_connected_2']),\\\n",
    "                                             initializer=tf.zeros_initializer, trainable=False),\n",
    "        'out': tf.get_variable('outb', shape=(layer_depth['out']),initializer=tf.zeros_initializer, trainable=False)\n",
    "    }\n"
   ]
  },
  {
   "cell_type": "code",
   "execution_count": 13,
   "metadata": {},
   "outputs": [
    {
     "name": "stdout",
     "output_type": "stream",
     "text": [
      "Without Scope: len(trainable_collection_t)=10; len(global_collection_t)=10\n",
      "Without Scope: len(trainable_collection_s)=1; len(global_collection_s)=11\n",
      "Without Scope: len(trainable_collection)=11; len(global_collection)=21\n"
     ]
    }
   ],
   "source": [
    "trainable_collection_t = tf.get_collection(tf.GraphKeys.TRAINABLE_VARIABLES,scope='teacher')\n",
    "global_collection_t = tf.get_collection(tf.GraphKeys.GLOBAL_VARIABLES,scope='teacher')\n",
    "print('Without Scope: len(trainable_collection_t)={}; len(global_collection_t)={}'.format(len(trainable_collection_t),len(global_collection_t)))\n",
    "\n",
    "trainable_collection_s = tf.get_collection(tf.GraphKeys.TRAINABLE_VARIABLES,scope='student')\n",
    "global_collection_s = tf.get_collection(tf.GraphKeys.GLOBAL_VARIABLES,scope='student')\n",
    "print('Without Scope: len(trainable_collection_s)={}; len(global_collection_s)={}'.format(len(trainable_collection_s),len(global_collection_s)))\n",
    "\n",
    "trainable_collection = tf.get_collection(tf.GraphKeys.TRAINABLE_VARIABLES)\n",
    "global_collection = tf.get_collection(tf.GraphKeys.GLOBAL_VARIABLES)\n",
    "print('Without Scope: len(trainable_collection)={}; len(global_collection)={}'.format(len(trainable_collection),len(global_collection)))"
   ]
  },
  {
   "cell_type": "code",
   "execution_count": 14,
   "metadata": {},
   "outputs": [
    {
     "name": "stdout",
     "output_type": "stream",
     "text": [
      "[<tf.Variable 'teacher/layer_1w:0' shape=(5, 5, 1, 16) dtype=float32_ref>, <tf.Variable 'teacher/layer_2w:0' shape=(5, 5, 16, 32) dtype=float32_ref>, <tf.Variable 'teacher/fully_connected_1w:0' shape=(512, 256) dtype=float32_ref>, <tf.Variable 'teacher/fully_connected_2w:0' shape=(256, 128) dtype=float32_ref>, <tf.Variable 'teacher/outw:0' shape=(128, 2) dtype=float32_ref>, <tf.Variable 'teacher/layer_1b:0' shape=(16,) dtype=float32_ref>, <tf.Variable 'teacher/layer_2b:0' shape=(32,) dtype=float32_ref>, <tf.Variable 'teacher/fully_connected_1b:0' shape=(256,) dtype=float32_ref>, <tf.Variable 'teacher/fully_connected_2b:0' shape=(128,) dtype=float32_ref>, <tf.Variable 'teacher/outb:0' shape=(2,) dtype=float32_ref>]\n",
      "\n",
      "\n",
      "[<tf.Variable 'student/permutation:0' shape=(28, 28) dtype=float32_ref>]\n"
     ]
    }
   ],
   "source": [
    "print(trainable_collection_t)\n",
    "print('\\n')\n",
    "print(trainable_collection_s)"
   ]
  },
  {
   "cell_type": "code",
   "execution_count": 15,
   "metadata": {},
   "outputs": [
    {
     "name": "stdout",
     "output_type": "stream",
     "text": [
      "(?, 28, 28)\n",
      "conv1 has shape= (?, 24, 24, 16)\n",
      "conv2 has shape= (?, 8, 8, 32)\n",
      "flatten(conv2) has shape= (?, 512)\n",
      "logits has shape= (?, 2)\n"
     ]
    }
   ],
   "source": [
    "def CNNMNIST_student(x):\n",
    "    bsize = tf.shape(x)[0]\n",
    "    # processing the permutation matrix\n",
    "    #x = tf.squeeze(x) # (batch_sizex28x28)\n",
    "    x = tf.reshape(x,shape=(bsize,img_height,img_width))\n",
    "    permutation = tf.tile(tf.expand_dims(weights_student['permutation'],0),[bsize,1,1])\n",
    "    print(permutation.shape)\n",
    "    x = tf.matmul(permutation,x) # (batchsizex28x28)\n",
    "    x = tf.expand_dims(x,-1) # (batchsizex28x28x1)\n",
    "    \n",
    "    # Layer 1: Convolutional. Input = 28x28xcNum. Output = 24x24xlayer_depth['layer_1'].\n",
    "    conv1   = tf.nn.conv2d(x, weights_student['layer_1'], strides=[1, 1, 1, 1], padding='VALID') + biases_student['layer_1']\n",
    "    print('conv1 has shape=',conv1.shape)\n",
    "\n",
    "    # Activation.\n",
    "    conv1 = tf.nn.relu(conv1)\n",
    "\n",
    "    # Pooling. Input = 24x24xlayer_depth['layer_1']. Output = 12x12xlayer_depth['layer_1'].\n",
    "    conv1 = tf.nn.max_pool(conv1, ksize=[1, 2, 2, 1], strides=[1, 2, 2, 1], padding='VALID')\n",
    "\n",
    "    # Layer 2: Convolutional. Output = 8x8xlayer_depth['layer_2'].\n",
    "    conv2   = tf.nn.conv2d(conv1, weights_student['layer_2'], strides=[1, 1, 1, 1], padding='VALID') + biases_student['layer_2']\n",
    "    print('conv2 has shape=',conv2.shape)\n",
    "\n",
    "    # SOLUTION: Activation.\n",
    "    conv2 = tf.nn.relu(conv2)\n",
    "\n",
    "    # SOLUTION: Pooling. Input = 8x8xlayer_depth['layer_2']. Output = 4x4xlayer_depth['layer_2'].\n",
    "    conv2 = tf.nn.max_pool(conv2, ksize=[1, 2, 2, 1], strides=[1, 2, 2, 1], padding='VALID')\n",
    "\n",
    "    # SOLUTION: Flatten. Input = 4x4xlayer_depth['layer_2']. Output = 4x4xlayer_depth['layer_2'].\n",
    "    print('flatten(conv2) has shape=',flatten(conv2).shape)\n",
    "    #print('flatten(conv1) has shape=',tf.shape(flatten(conv1)))\n",
    "    #fc0   = tf.concat(1,[flatten(conv2), flatten(conv1)])\n",
    "    fc0 = flatten(conv2)\n",
    "\n",
    "    # SOLUTION: Layer 3: Fully Connected. Input = 5x5xlayer_depth['layer_2']. Output = layer_depth['fully_connected_1'].\n",
    "    fc1   = tf.matmul(fc0, weights_student['fully_connected_1']) + biases_student['fully_connected_1']\n",
    "\n",
    "    # SOLUTION: Activation.\n",
    "    fc1    = tf.nn.relu(fc1)\n",
    "    fc1 = tf.nn.dropout(fc1, keep_prob)    # dropout\n",
    "\n",
    "    # SOLUTION: Layer 4: Fully Connected. Input = layer_depth['fully_connected_1']. Output = layer_depth['fully_connected_2'].\n",
    "    fc2    = tf.matmul(fc1, weights_student['fully_connected_2']) + biases_student['fully_connected_2']\n",
    "    fc2 = tf.nn.dropout(fc2, keep_prob)    # dropout\n",
    "\n",
    "    # SOLUTION: Activation.\n",
    "    fc2    = tf.nn.relu(fc2)\n",
    "\n",
    "    # SOLUTION: Layer 5: Fully Connected. Input = layer_depth['fully_connected_2']. Output = layer_depth['out'].\n",
    "    logits = tf.matmul(fc2, weights_student['out']) + biases_student['out']\n",
    "    print('logits has shape=',logits.shape)\n",
    "    return logits\n",
    "\n",
    "logits_student = CNNMNIST_student(x_feed_student)"
   ]
  },
  {
   "cell_type": "markdown",
   "metadata": {},
   "source": [
    "### Define loss and optimizer"
   ]
  },
  {
   "cell_type": "code",
   "execution_count": 16,
   "metadata": {
    "collapsed": true
   },
   "outputs": [],
   "source": [
    "# Define loss, optimizer\n",
    "# softmax_cross_entropy_with_logits: https://www.tensorflow.org/versions/r1.2/api_docs/python/tf/nn/softmax_cross_entropy_with_logits\n",
    "# labels: Each row labels[i] must be a valid probability distribution.\n",
    "# logits: Unscaled log probabilities.\n",
    "cross_entropy = tf.nn.softmax_cross_entropy_with_logits(labels=one_hot_y_feed,logits=logits)\n",
    "\n",
    "loss_operation = tf.reduce_mean(cross_entropy)\n",
    "optimizer = tf.train.AdamOptimizer(learning_rate = rate)\n",
    "training_operation = optimizer.minimize(loss_operation)\n",
    "\n",
    "loss_tf_op = tf.nn.l2_loss(logits_student-logits)\n",
    "optimizer_tf = tf.train.AdamOptimizer(learning_rate = rate)\n",
    "training_tf_operation = optimizer_tf.minimize(loss_tf_op, var_list = trainable_collection_s)"
   ]
  },
  {
   "cell_type": "code",
   "execution_count": 17,
   "metadata": {
    "collapsed": true
   },
   "outputs": [],
   "source": [
    "# Define accuracy evaluation\n",
    "# calculate the average accuracy by calling evaluate(X_data, y_data)\n",
    "correct_prediction = tf.equal(tf.argmax(logits, axis=1), tf.argmax(one_hot_y_feed, axis=1))\n",
    "accuracy_operation = tf.reduce_mean(tf.cast(correct_prediction, tf.float32))\n",
    "\n",
    "def evaluate(X_data, y_data):\n",
    "    num_examples = len(X_data)\n",
    "    assert(len(X_data)==len(y_data))\n",
    "    total_accuracy = 0\n",
    "    sess = tf.get_default_session()\n",
    "    for offset in range(0, num_examples, BATCH_SIZE):\n",
    "        batch_x, batch_y = X_data[offset:offset+BATCH_SIZE], y_data[offset:offset+BATCH_SIZE]\n",
    "        accuracy = sess.run(accuracy_operation, feed_dict={x_feed: batch_x, one_hot_y_feed: batch_y, keep_prob: 1.0})\n",
    "        total_accuracy += (accuracy * len(batch_x))\n",
    "    return total_accuracy / num_examples\n",
    "\n",
    "correct_prediction_student = tf.equal(tf.argmax(logits_student, axis=1), tf.argmax(one_hot_y_feed_student, axis=1))\n",
    "accuracy_operation_student = tf.reduce_mean(tf.cast(correct_prediction_student, tf.float32))\n",
    "def evaluate_student(X_data, y_data):\n",
    "    num_examples = len(X_data)\n",
    "    assert(len(X_data)==len(y_data))\n",
    "    total_accuracy = 0\n",
    "    sess = tf.get_default_session()\n",
    "    for offset in range(0, num_examples, BATCH_SIZE):\n",
    "        batch_x, batch_y = X_data[offset:offset+BATCH_SIZE], y_data[offset:offset+BATCH_SIZE]\n",
    "        accuracy = sess.run(accuracy_operation_student, feed_dict={x_feed_student: batch_x, one_hot_y_feed_student: batch_y, keep_prob: 1.0})\n",
    "        total_accuracy += (accuracy * len(batch_x))\n",
    "    return total_accuracy / num_examples"
   ]
  },
  {
   "cell_type": "markdown",
   "metadata": {},
   "source": [
    "## Run Session"
   ]
  },
  {
   "cell_type": "code",
   "execution_count": 18,
   "metadata": {},
   "outputs": [
    {
     "name": "stdout",
     "output_type": "stream",
     "text": [
      "Training...\n",
      "\n",
      "EPOCH 1 ...\n",
      "Train Accuracy = 0.994; Flip Accuracy = 0.180\n",
      "\n",
      "EPOCH 2 ...\n",
      "Train Accuracy = 0.999; Flip Accuracy = 0.192\n",
      "\n",
      "EPOCH 3 ...\n",
      "Train Accuracy = 0.999; Flip Accuracy = 0.080\n",
      "\n",
      "Model saved\n",
      "Before assignment\n",
      "After assignment\n",
      "EPOCH 1 ...\n",
      "Acc loss = 9.52696829760659\n",
      "Train Accuracy = 0.460; Flip Accuracy = 0.806\n",
      "\n",
      "EPOCH 2 ...\n",
      "Acc loss = 3.6580730849143146\n",
      "Train Accuracy = 0.364; Flip Accuracy = 0.955\n",
      "\n",
      "EPOCH 3 ...\n",
      "Acc loss = 2.454553008463332\n",
      "Train Accuracy = 0.304; Flip Accuracy = 0.980\n",
      "\n",
      "EPOCH 4 ...\n",
      "Acc loss = 1.823352760733923\n",
      "Train Accuracy = 0.277; Flip Accuracy = 0.988\n",
      "\n",
      "EPOCH 5 ...\n",
      "Acc loss = 1.4707165408316494\n",
      "Train Accuracy = 0.235; Flip Accuracy = 0.992\n",
      "\n",
      "EPOCH 6 ...\n",
      "Acc loss = 1.213175814588861\n",
      "Train Accuracy = 0.212; Flip Accuracy = 0.994\n",
      "\n",
      "EPOCH 7 ...\n",
      "Acc loss = 1.0669785058220949\n",
      "Train Accuracy = 0.183; Flip Accuracy = 0.995\n",
      "\n",
      "EPOCH 8 ...\n",
      "Acc loss = 0.9374155159126417\n",
      "Train Accuracy = 0.192; Flip Accuracy = 0.995\n",
      "\n",
      "EPOCH 9 ...\n",
      "Acc loss = 0.8563255553587239\n",
      "Train Accuracy = 0.172; Flip Accuracy = 0.996\n",
      "\n",
      "EPOCH 10 ...\n",
      "Acc loss = 0.7726570629786244\n",
      "Train Accuracy = 0.169; Flip Accuracy = 0.996\n",
      "\n",
      "Model saved\n"
     ]
    }
   ],
   "source": [
    "### Train your model here.\n",
    "# mini-batch Adam training, will save model as ./models/mnist-cnn-model\n",
    "if not os.path.isdir('./models'):\n",
    "    os.makedirs('./models')\n",
    "saver = tf.train.Saver()\n",
    "with tf.Session() as sess:\n",
    "    sess.run(tf.global_variables_initializer())\n",
    "    num_examples = x_num\n",
    "    \n",
    "    print(\"Training...\")\n",
    "    print()\n",
    "    train_accuracy = np.zeros(EPOCHS)\n",
    "    flip_accuracy = np.zeros(EPOCHS)\n",
    "    for i in range(EPOCHS):\n",
    "        acc_train_accuracy = 0\n",
    "        X_train, y_train = shuffle(x, y1hot)\n",
    "        for offset in range(0, num_examples, BATCH_SIZE):\n",
    "            end = offset + BATCH_SIZE\n",
    "            batch_x, batch_y = X_train[offset:end], y_train[offset:end]\n",
    "            sess.run(training_operation, feed_dict={x_feed: batch_x, one_hot_y_feed: batch_y, keep_prob: drop_out_keep_prob})\n",
    "            acc_train_accuracy += evaluate(batch_x, batch_y)\n",
    "        train_accuracy[i] = acc_train_accuracy/len(range(0, num_examples, BATCH_SIZE))\n",
    "        flip_accuracy[i] = evaluate(x_flip, y1hot_flip)\n",
    "        print(\"EPOCH {} ...\".format(i+1))\n",
    "        #print(\"Train Accuracy = {:.3f}\".format(train_accuracy[i]))\n",
    "        print(\"Train Accuracy = {:.3f}; Flip Accuracy = {:.3f}\".format(train_accuracy[i],flip_accuracy[i]))\n",
    "        print()\n",
    "    saver.save(sess, './models/mnist-cnn-model')\n",
    "    print(\"Model saved\")\n",
    "    \n",
    "    \"\"\"\n",
    "    We Then Do the Copy from Teacher to Student Models\n",
    "    \"\"\"\n",
    "    print('Before assignment')\n",
    "    #print(sess.run(weights_student['layer_1']))\n",
    "    sess.run(weights_student['layer_1'].assign(weights['layer_1']))\n",
    "    sess.run(weights_student['layer_2'].assign(weights['layer_2']))\n",
    "    sess.run(weights_student['fully_connected_1'].assign(weights['fully_connected_1']))\n",
    "    sess.run(weights_student['fully_connected_2'].assign(weights['fully_connected_2']))\n",
    "    sess.run(weights_student['out'].assign(weights['out']))\n",
    "    sess.run(biases_student['layer_1'].assign(biases['layer_1']))\n",
    "    sess.run(biases_student['layer_2'].assign(biases['layer_2']))\n",
    "    sess.run(biases_student['fully_connected_1'].assign(biases['fully_connected_1']))\n",
    "    sess.run(biases_student['fully_connected_2'].assign(biases['fully_connected_2']))\n",
    "    sess.run(biases_student['out'].assign(biases['out']))\n",
    "    print('After assignment')\n",
    "    #print(sess.run(weights_student['layer_1']))\n",
    "    \n",
    "    \"\"\"\n",
    "    Using Flipped Images to Unsupervised Training the Original Net\n",
    "    \"\"\"\n",
    "    train_accuracy_tf = np.zeros(EPOCHS_TF)\n",
    "    flip_accuracy_tf = np.zeros(EPOCHS_TF)\n",
    "    for i in range(EPOCHS_TF):\n",
    "        acc_loss = 0.0\n",
    "        X_train, X_train_flip = shuffle(x_rest, x_rest_flip)\n",
    "        for offset in range(0, num_examples, BATCH_SIZE):\n",
    "            end = offset + BATCH_SIZE\n",
    "            batch_x = X_train[offset:end]\n",
    "            batch_x_flip = X_train_flip[offset:end]\n",
    "            _, l = sess.run([training_tf_operation, loss_tf_op], feed_dict={x_feed: batch_x,\\\n",
    "                                                                            x_feed_student: batch_x_flip,\\\n",
    "                                                                            keep_prob: 1.0})\n",
    "            #print('Current loss in batch = {}'.format(l))\n",
    "            acc_loss += l\n",
    "        acc_loss /= num_examples\n",
    "        #train_accuracy_tf[i] = evaluate(x, y1hot)\n",
    "        train_accuracy_tf[i] = evaluate_student(x, y1hot)\n",
    "        flip_accuracy_tf[i] = evaluate_student(x_flip, y1hot_flip)\n",
    "        print(\"EPOCH {} ...\".format(i+1))\n",
    "        print(\"Acc loss = {}\".format(acc_loss))\n",
    "        print(\"Train Accuracy = {:.3f}; Flip Accuracy = {:.3f}\".format(train_accuracy_tf[i],flip_accuracy_tf[i]))\n",
    "        print()\n",
    "    saver.save(sess, './models_tf/mnist-cnn-model')\n",
    "    print(\"Model saved\")\n",
    "    "
   ]
  },
  {
   "cell_type": "markdown",
   "metadata": {
    "collapsed": true
   },
   "source": [
    "### We then checkout the permutation matrix !"
   ]
  },
  {
   "cell_type": "code",
   "execution_count": 19,
   "metadata": {},
   "outputs": [
    {
     "name": "stdout",
     "output_type": "stream",
     "text": [
      "INFO:tensorflow:Restoring parameters from ./models_tf/mnist-cnn-model\n",
      "[[-0.33652213  0.194096    0.01185159 -0.21441045 -0.05837967 -0.30272174\n",
      "   0.25788119  0.17097554  0.2315713  -0.0270125  -0.34895688  0.02194827\n",
      "  -0.04041349  0.06443283  0.20175146 -0.02515851 -0.28603825  0.06758212\n",
      "   0.04779549  0.1780389  -0.2071728   0.12291357 -0.235321   -0.23071177\n",
      "  -0.16024549  0.40447283 -0.11055614  0.00674399]\n",
      " [-0.2381878  -0.37216341  0.12914696 -0.06254674 -0.14244145  0.20884068\n",
      "  -0.05568084 -0.27007377 -0.11992516 -0.37534025 -0.48011515 -0.34975278\n",
      "  -0.11220517 -0.32637328  0.18099456  0.04144622 -0.07538597 -0.01104459\n",
      "  -0.05615342  0.17611469  0.11019797 -0.00876631 -0.01782795  0.23411065\n",
      "   0.05650008  0.30270171 -0.01349568 -0.22177105]\n",
      " [ 0.09385606  0.05471779  0.00948903  0.02050059  0.19180992  0.13648649\n",
      "   0.11957303  0.30843458 -0.13916585  0.18250479 -0.1021389   0.1333264\n",
      "  -0.1912207   0.10002661  0.19139905  0.07210119  0.32196593  0.05936131\n",
      "   0.29458749  0.09342391 -0.05581735 -0.3189725  -0.12010004 -0.02504512\n",
      "   0.27171296 -0.12961861 -0.23893179 -0.09541804]\n",
      " [ 0.09984867 -0.13141651  0.08735589 -0.04185273 -0.103034    0.09175996\n",
      "   0.15405224  0.13566591 -0.07708732  0.02777727  0.01941134 -0.07180368\n",
      "  -0.20201708  0.28784081  0.0199862   0.06197742  0.10081413  0.00544378\n",
      "  -0.19800326 -0.09194056 -0.33320296  0.04300705 -0.10805611 -0.11895876\n",
      "  -0.13415524  0.03107841 -0.01254334 -0.06437059]\n",
      " [ 0.10058435  0.07531837 -0.33462515 -0.05702595 -0.2740646   0.08421337\n",
      "   0.0173758  -0.09348214  0.20443298  0.18340667  0.18278019  0.06137875\n",
      "   0.40523151 -0.06420832 -0.07778205  0.10759255 -0.27024347  0.2344583\n",
      "  -0.04794658  0.36762816 -0.06424683  0.13474767  0.28184918  0.19677845\n",
      "  -0.47112268 -0.15688637  0.1597676   0.22311138]\n",
      " [ 0.08613499 -0.23587444 -0.21551359  0.24791424 -0.06961068  0.20686026\n",
      "  -0.01419163  0.15930815  0.11795856  0.29028782  0.0252643   0.04078962\n",
      "   0.39039195  0.06781688 -0.0708276  -0.14025758 -0.36395764  0.11234453\n",
      "  -0.19925772  0.17191406  0.37470499  0.33875176  0.11032606  0.13586669\n",
      "   0.14286795 -0.40443033 -0.26954186 -0.19980583]\n",
      " [ 0.25201741  0.35947415  0.31961346  0.04715062  0.20458119  0.05673128\n",
      "  -0.23437382  0.09356159 -0.25848922  0.20181204 -0.16675512 -0.14936696\n",
      "   0.23891208  0.19351488 -0.11466051 -0.19125734  0.29292211 -0.04957277\n",
      "   0.19273934  0.3552978   0.19618307 -0.17635833  0.0303796   0.15618628\n",
      "   0.11229017 -0.07412074 -0.35102537 -0.14252438]\n",
      " [-0.26375663  0.37651584  0.2238204   0.30110571 -0.07963965 -0.16038606\n",
      "   0.05675856  0.21507956  0.21149032 -0.18052059  0.28670797 -0.09454554\n",
      "  -0.02374486 -0.00937493  0.14056921  0.02453124 -0.0427205   0.07603659\n",
      "   0.16443424 -0.08946939  0.16788432  0.02394644  0.21793668 -0.02103641\n",
      "  -0.32758284 -0.44951269 -0.31713668 -0.07227556]\n",
      " [ 0.19415095  0.37086833  0.21122085 -0.06984953  0.35023922  0.28639007\n",
      "  -0.26959968  0.15268466  0.2968705  -0.16391452 -0.21500483  0.0323206\n",
      "   0.0907532  -0.12505707  0.26706141  0.26415372 -0.22056261  0.03288109\n",
      "   0.22513177  0.06766862 -0.03042785  0.41313311  0.01980633 -0.25190496\n",
      "  -0.37242401  0.03136738 -0.38887724  0.243617  ]\n",
      " [ 0.299059    0.01026583  0.23011468  0.26697847 -0.21691363  0.03039114\n",
      "  -0.30235937  0.08563904 -0.0228832  -0.20693193  0.19263186 -0.02229157\n",
      "  -0.21026972  0.35622883  0.23439452  0.38869089 -0.02343747  0.2477639\n",
      "  -0.18416245  0.38943753  0.23103321  0.02011617 -0.11423559 -0.01696904\n",
      "  -0.07212111 -0.46498257 -0.00265269 -0.28123471]\n",
      " [-0.04920229  0.17227691  0.07834212  0.22559367 -0.27977765  0.22344765\n",
      "   0.18651767  0.18875898 -0.33606401 -0.24278022  0.21728961  0.07136281\n",
      "  -0.08647087 -0.12559684  0.06528937  0.21567155  0.13108431 -0.00814432\n",
      "   0.34513009 -0.01502603 -0.23143436  0.0679284   0.09650312 -0.07403196\n",
      "   0.0560725   0.0966263  -0.18777534 -0.25792494]\n",
      " [ 0.28593045  0.31875107 -0.04141669 -0.10191002 -0.11575551 -0.03889444\n",
      "  -0.06116547 -0.34697998  0.25355831  0.1661687  -0.2076828   0.02550209\n",
      "  -0.05392038  0.23942438  0.19743405 -0.06854782  0.23205273  0.39987355\n",
      "   0.17608422  0.21398084  0.31627527 -0.14910489 -0.41006425  0.00566313\n",
      "  -0.25141034  0.20512943  0.07944954 -0.03009982]\n",
      " [ 0.01868769  0.05487648  0.02875104 -0.11529679  0.28187123 -0.18037724\n",
      "   0.12568267  0.14598666 -0.11112443  0.17163543 -0.12370377  0.02547057\n",
      "  -0.02453161  0.00089492  0.19304925  0.28641868  0.39370099  0.36571679\n",
      "   0.30137479  0.11899483 -0.27078125 -0.29760456  0.21523467 -0.09474404\n",
      "   0.00824733  0.05606299  0.1758707  -0.08831459]\n",
      " [ 0.09378754  0.21593739 -0.34035665 -0.11203502  0.17591003 -0.19699398\n",
      "   0.22752517  0.1476166  -0.25687876  0.13425975 -0.02175862  0.05314079\n",
      "  -0.09686098  0.47501874  0.57223099  0.21046454  0.44717443 -0.03371333\n",
      "  -0.46278918 -0.22069019 -0.09688004  0.00447289 -0.09137837  0.11949065\n",
      "  -0.40127221  0.20602287 -0.35906181  0.07020085]\n",
      " [-0.24809641  0.21077114  0.23402807  0.10528219 -0.05510721 -0.24722727\n",
      "   0.0066506   0.13515435  0.06678903  0.37805551 -0.06124824  0.0126778\n",
      "   0.58534032  0.05847328  0.05060964 -0.07877266  0.12167133 -0.39624995\n",
      "  -0.16779672  0.13254204  0.07721636  0.02516119 -0.09057741  0.02794082\n",
      "   0.11098034 -0.02666997 -0.02564803 -0.27798104]\n",
      " [-0.36140639 -0.28850245 -0.10733864 -0.38918254 -0.08721346  0.08757902\n",
      "   0.0217239  -0.09837724 -0.01675101 -0.17863858  0.07342396  0.18675846\n",
      "   0.12524149  0.21121551  0.27222717  0.24092703  0.25963333 -0.06844559\n",
      "   0.07535128  0.04687379  0.05332465  0.02881662 -0.25487763 -0.19387604\n",
      "  -0.103095    0.10537422  0.2658605  -0.25684115]\n",
      " [ 0.18778406 -0.23137332 -0.3357822  -0.19032839  0.2149372  -0.14719653\n",
      "   0.23643979 -0.21058428  0.11874332  0.13703915  0.33590442  0.31722546\n",
      "   0.23433304  0.29838324  0.11376012 -0.36511055  0.08269305  0.25182334\n",
      "  -0.29935837 -0.12586962  0.02485932 -0.07088615  0.04831291 -0.1061129\n",
      "   0.13827063 -0.0743298  -0.10223877  0.08283372]\n",
      " [ 0.18633097 -0.15660401 -0.11920844 -0.22350681  0.19215994 -0.18937702\n",
      "  -0.11238904  0.3928861   0.467343    0.37578562  0.01843411  0.36461198\n",
      "   0.18966062 -0.04150046  0.1228985  -0.0171268  -0.12628908  0.01788913\n",
      "   0.08922351  0.25859797 -0.17288736 -0.20465578 -0.24505423  0.13368985\n",
      "   0.23162311  0.41715288 -0.27052    -0.310002  ]\n",
      " [ 0.13792193 -0.01148199  0.01279816 -0.09841517 -0.14425337 -0.04528984\n",
      "  -0.01293034  0.5192883   0.24513349  0.29391962 -0.02466552  0.00898885\n",
      "   0.08092584 -0.2957063   0.10854848  0.19855243 -0.11738602  0.08148991\n",
      "   0.06985263 -0.28649393  0.06676377  0.03352157  0.02955627  0.14244622\n",
      "  -0.02764337 -0.11304959  0.29587647 -0.22557683]\n",
      " [-0.08006846  0.15221766 -0.18627429  0.13734007  0.03332895  0.24679309\n",
      "  -0.04205936  0.21909913 -0.02397902  0.25595409  0.32425997 -0.23433113\n",
      "   0.24035802  0.0811785  -0.17295213  0.0638117   0.1624472  -0.25694793\n",
      "  -0.08982003  0.18000685  0.19642644  0.11792928  0.29509315 -0.12017626\n",
      "  -0.09088127 -0.12482954  0.34017923 -0.03564408]\n",
      " [-0.25962311 -0.01971685 -0.24867652 -0.04481763  0.144657   -0.1904646\n",
      "  -0.1220096   0.23577529  0.05516502  0.25686333 -0.00892391 -0.23553821\n",
      "  -0.10188633 -0.10488308 -0.01271864  0.09003294  0.01227234 -0.16003986\n",
      "   0.12983434 -0.27659231 -0.15812533  0.22106034 -0.23039053  0.30253318\n",
      "   0.36995676 -0.04011698 -0.24399573  0.09204721]\n",
      " [ 0.03980458 -0.26456398 -0.25435162 -0.31066889 -0.1257055  -0.14799102\n",
      "   0.24848692  0.19806486 -0.02841545  0.05315506  0.28178769  0.09280907\n",
      "   0.22072116  0.17537533 -0.02488175  0.03386356  0.09327522  0.03935827\n",
      "   0.22137523 -0.02594414  0.0810237  -0.19318165  0.1193288  -0.0906546\n",
      "  -0.08444797 -0.11874712  0.33387759 -0.12532288]\n",
      " [-0.22556934  0.03251863 -0.14735176 -0.15716271 -0.10320079  0.25289357\n",
      "   0.41754219  0.13870327  0.43757871  0.08287089 -0.06329525 -0.01204087\n",
      "   0.09039824 -0.16695233  0.28003871  0.21664184  0.11945265  0.06688741\n",
      "  -0.1353837   0.01836987 -0.2851308   0.15692708  0.12496115  0.27892756\n",
      "   0.27444854  0.05667756  0.00895084  0.24598569]\n",
      " [ 0.19028859 -0.43451965 -0.0712598  -0.16026841 -0.07513541 -0.16188124\n",
      "  -0.17933638 -0.2657432   0.00841049 -0.23351985  0.13264756  0.14611579\n",
      "   0.07477155  0.19130582 -0.19114085  0.10789686 -0.05319874 -0.09793024\n",
      "   0.092564    0.04277151  0.11851802 -0.02887163 -0.16380438 -0.04233296\n",
      "  -0.26694337 -0.44714743 -0.09972458 -0.14758095]\n",
      " [-0.0982508  -0.13794659 -0.18056165  0.1713143  -0.0989069  -0.25833815\n",
      "  -0.02194241 -0.02354653  0.04771763  0.05547079 -0.11276224  0.28332123\n",
      "   0.13741241  0.11921538  0.23947538  0.18897769 -0.02516574  0.06418058\n",
      "  -0.22799069  0.22474198  0.42039421 -0.03452801 -0.12044574 -0.41295445\n",
      "  -0.02579881 -0.48006088 -0.04152586 -0.16405277]\n",
      " [-0.15383779 -0.16335094  0.19872265  0.37913758  0.10423321  0.06194923\n",
      "   0.21258605  0.01715287  0.05589089 -0.0309934  -0.20353703  0.15413551\n",
      "   0.23235366 -0.24505131  0.18095735 -0.19606359 -0.15907943  0.27557382\n",
      "   0.32023162 -0.18531184  0.29955098 -0.01778328  0.0762257  -0.31021807\n",
      "  -0.18659683 -0.07072543 -0.19187574  0.01107778]\n",
      " [ 0.23657759 -0.04722283 -0.34618849 -0.19292152 -0.34366861 -0.12184989\n",
      "  -0.07316651 -0.38000235 -0.02334767  0.03024284  0.37797043  0.02741911\n",
      "   0.14582536  0.24400936 -0.41338634 -0.17193173 -0.0913789   0.05775322\n",
      "   0.41761345  0.20779842 -0.06745455  0.12602729 -0.01690535  0.10137211\n",
      "  -0.37265596  0.12719423  0.24325211 -0.1490726 ]\n",
      " [ 0.01449487  0.39507967  0.47439015  0.18680377  0.14496316  0.17482494\n",
      "   0.34874049  0.19707072  0.10447621  0.37593231  0.14625278  0.4158603\n",
      "  -0.137586    0.31071118  0.24646547 -0.04007516  0.04895582 -0.00851532\n",
      "   0.30531102  0.55077606  0.22966824  0.37471223 -0.12174805  0.15889275\n",
      "  -0.35109368 -0.26274616 -0.18812564 -0.19203544]]\n"
     ]
    }
   ],
   "source": [
    "saver = tf.train.Saver()\n",
    "with tf.Session() as sess:\n",
    "    saver.restore(sess, tf.train.latest_checkpoint('./models_tf'))\n",
    "    print(sess.run(weights_student['permutation']))"
   ]
  }
 ],
 "metadata": {
  "kernelspec": {
   "display_name": "Python 3",
   "language": "python",
   "name": "python3"
  },
  "language_info": {
   "codemirror_mode": {
    "name": "ipython",
    "version": 3
   },
   "file_extension": ".py",
   "mimetype": "text/x-python",
   "name": "python",
   "nbconvert_exporter": "python",
   "pygments_lexer": "ipython3",
   "version": "3.5.3"
  }
 },
 "nbformat": 4,
 "nbformat_minor": 2
}
